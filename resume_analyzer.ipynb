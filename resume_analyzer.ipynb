{
 "cells": [
  {
   "cell_type": "markdown",
   "metadata": {},
   "source": [
    "## Get The text from the PDF"
   ]
  },
  {
   "cell_type": "code",
   "execution_count": 2,
   "metadata": {},
   "outputs": [
    {
     "name": "stdout",
     "output_type": "stream",
     "text": [
      "Requirement already satisfied: pdfplumber in c:\\users\\nitin\\appdata\\local\\programs\\python\\python311\\lib\\site-packages (0.11.5)\n",
      "Requirement already satisfied: pytesseract in c:\\users\\nitin\\appdata\\local\\programs\\python\\python311\\lib\\site-packages (0.3.13)\n",
      "Requirement already satisfied: pdf2image in c:\\users\\nitin\\appdata\\local\\programs\\python\\python311\\lib\\site-packages (1.17.0)\n",
      "Requirement already satisfied: pdfminer.six==20231228 in c:\\users\\nitin\\appdata\\local\\programs\\python\\python311\\lib\\site-packages (from pdfplumber) (20231228)\n",
      "Requirement already satisfied: Pillow>=9.1 in c:\\users\\nitin\\appdata\\local\\programs\\python\\python311\\lib\\site-packages (from pdfplumber) (10.4.0)\n",
      "Requirement already satisfied: pypdfium2>=4.18.0 in c:\\users\\nitin\\appdata\\local\\programs\\python\\python311\\lib\\site-packages (from pdfplumber) (4.30.1)\n",
      "Requirement already satisfied: charset-normalizer>=2.0.0 in c:\\users\\nitin\\appdata\\local\\programs\\python\\python311\\lib\\site-packages (from pdfminer.six==20231228->pdfplumber) (3.3.2)\n",
      "Requirement already satisfied: cryptography>=36.0.0 in c:\\users\\nitin\\appdata\\local\\programs\\python\\python311\\lib\\site-packages (from pdfminer.six==20231228->pdfplumber) (44.0.1)\n",
      "Requirement already satisfied: packaging>=21.3 in c:\\users\\nitin\\appdata\\local\\programs\\python\\python311\\lib\\site-packages (from pytesseract) (24.1)\n",
      "Requirement already satisfied: cffi>=1.12 in c:\\users\\nitin\\appdata\\local\\programs\\python\\python311\\lib\\site-packages (from cryptography>=36.0.0->pdfminer.six==20231228->pdfplumber) (1.17.1)\n",
      "Requirement already satisfied: pycparser in c:\\users\\nitin\\appdata\\local\\programs\\python\\python311\\lib\\site-packages (from cffi>=1.12->cryptography>=36.0.0->pdfminer.six==20231228->pdfplumber) (2.22)\n",
      "Note: you may need to restart the kernel to use updated packages.\n"
     ]
    },
    {
     "name": "stderr",
     "output_type": "stream",
     "text": [
      "\n",
      "[notice] A new release of pip is available: 24.3.1 -> 25.0.1\n",
      "[notice] To update, run: python.exe -m pip install --upgrade pip\n"
     ]
    }
   ],
   "source": [
    "%pip install pdfplumber pytesseract pdf2image"
   ]
  },
  {
   "cell_type": "code",
   "execution_count": 3,
   "metadata": {},
   "outputs": [],
   "source": [
    "import pdfplumber\n",
    "import pytesseract\n",
    "from pdf2image import convert_from_path"
   ]
  },
  {
   "cell_type": "code",
   "execution_count": 4,
   "metadata": {},
   "outputs": [],
   "source": [
    "def extract_text_from_pdf(pdf_path):\n",
    "    text = \"\"\n",
    "    try:\n",
    "        # Try direct text extraction\n",
    "        with pdfplumber.open(pdf_path) as pdf:\n",
    "            for page in pdf.pages:\n",
    "                page_text = page.extract_text()\n",
    "                if page_text:\n",
    "                    text += page_text\n",
    "\n",
    "        if text.strip():\n",
    "            return text.strip()\n",
    "    except Exception as e:\n",
    "        print(f\"Direct text extraction failed: {e}\")\n",
    "\n",
    "    # Fallback to OCR for image-based PDFs\n",
    "    print(\"Falling back to OCR for image-based PDF.\")\n",
    "    try:\n",
    "        images = convert_from_path(pdf_path)\n",
    "        for image in images:\n",
    "            page_text = pytesseract.image_to_string(image)\n",
    "            text += page_text + \"\\n\"\n",
    "    except Exception as e:\n",
    "        print(f\"OCR failed: {e}\")\n",
    "\n",
    "    return text.strip()"
   ]
  },
  {
   "cell_type": "code",
   "execution_count": 5,
   "metadata": {},
   "outputs": [
    {
     "name": "stdout",
     "output_type": "stream",
     "text": [
      "\n",
      "Extracted Text from PDF:\n",
      "Nitin Singh Pokhariya\n",
      "Jaipur, Rajasthan\n",
      "(cid:211) +91-9027981262  nitinpokhariya20@gmail.com  Nitin Singh Pokhariya (cid:135) nitin102005\n",
      "EDUCATION\n",
      "Jaipur Engineering College, Kukas 2023 - 2027\n",
      "Degree Name - B.Tech - Computer Science and Engineering Jaipur, Kukas\n",
      "COURSEWORK / SKILLS\n",
      "• DSA • C/C++ • Python • Web Development\n",
      "• Operating Systems • DBMS • OOPs Concept • Full Stack\n",
      "PROJECTS\n",
      "Text to Image Project  | Python, Tkinter, Hugging Face API Integration, Pillow 2024\n",
      "• Developed a chatbot application utilizing Python for backend logic and Tkinter for the graphical user\n",
      "interface.\n",
      "• Integrated Tkinter for creating a user-friendly graphical interface, allowing users to interact seamlessly with\n",
      "the application.\n",
      "• Leveraged Hugging Face APIs to process and understand textual input, enhancing the text-to-image\n",
      "conversion process.\n",
      "Chatbot Application Project  | Python, Tkinter, Hugging Face API Integration 2024\n",
      "• Built a chatbot with Python backend and Tkinter interface.\n",
      "• Leveraged Hugging Face APIs for advanced NLP and improved conversational capabilities.\n",
      "• Designed an intuitive UI for easy user interaction.\n",
      "Training/Internship\n",
      "Learn and Build \n",
      "∗ Successfully completed a summer internship in the Generative AI Domain with Learn and Build.\n",
      "∗ successfully completed my training in the Linux Domain with an ’A’ grade, certified by Learn and Build.\n",
      "TECHNICAL SKILLS\n",
      "Languages: Python, C, C++,HTML, CSS\n",
      "Database Management: mysql\n",
      "Technologies/Frameworks: Linux, GitHub, Git, streamlit\n",
      "CERTIFICATIONS\n",
      "• Generative AI - Microsoft and LinkedIn • Software Development - Microsoft and LinkedIn\n",
      "• Java • Data Analysis - Microsoft and LinkedIn\n",
      "• Master of Essential C++ Programming - Udemy • ChatGPT Masterclass in AI and Prompt Engineering\n",
      "• Gemini API • Python\n",
      "EXTRACURRICULAR\n",
      "24 Hours Hackathon  9 Nov 2024\n",
      "Role:Team Leader MNIT,Jaipur\n",
      "∗ Led a team that was selected for the final round of the MNIT Jaipur 2024 Hackathon, advancing to the 24-hour\n",
      "onsite hackathon.\n",
      "∗ Managed task delegation, project progress, and ensured timely delivery of the solution within tight deadlines.\n",
      "∗ Acted as the main point of contact between the team and organizers, and delivered the final presentation,\n",
      "showcasing the project’s innovation to the judges.\n"
     ]
    }
   ],
   "source": [
    "pdf_path = \"Resume.pdf\"\n",
    "resume_text = extract_text_from_pdf(pdf_path)\n",
    "\n",
    "print(\"\\nExtracted Text from PDF:\")\n",
    "print(resume_text)"
   ]
  },
  {
   "cell_type": "markdown",
   "metadata": {},
   "source": [
    "## Set Google GenerativeAI Api Key"
   ]
  },
  {
   "cell_type": "code",
   "execution_count": 6,
   "metadata": {},
   "outputs": [
    {
     "name": "stdout",
     "output_type": "stream",
     "text": [
      "Requirement already satisfied: google.generativeai in c:\\users\\nitin\\appdata\\local\\programs\\python\\python311\\lib\\site-packages (0.8.4)\n",
      "Requirement already satisfied: python-dotenv in c:\\users\\nitin\\appdata\\local\\programs\\python\\python311\\lib\\site-packages (1.0.1)\n",
      "Requirement already satisfied: google-ai-generativelanguage==0.6.15 in c:\\users\\nitin\\appdata\\local\\programs\\python\\python311\\lib\\site-packages (from google.generativeai) (0.6.15)\n",
      "Requirement already satisfied: google-api-core in c:\\users\\nitin\\appdata\\local\\programs\\python\\python311\\lib\\site-packages (from google.generativeai) (2.24.1)\n",
      "Requirement already satisfied: google-api-python-client in c:\\users\\nitin\\appdata\\local\\programs\\python\\python311\\lib\\site-packages (from google.generativeai) (2.161.0)\n",
      "Requirement already satisfied: google-auth>=2.15.0 in c:\\users\\nitin\\appdata\\local\\programs\\python\\python311\\lib\\site-packages (from google.generativeai) (2.38.0)\n",
      "Requirement already satisfied: protobuf in c:\\users\\nitin\\appdata\\local\\programs\\python\\python311\\lib\\site-packages (from google.generativeai) (5.27.2)\n",
      "Requirement already satisfied: pydantic in c:\\users\\nitin\\appdata\\local\\programs\\python\\python311\\lib\\site-packages (from google.generativeai) (2.9.2)\n",
      "Requirement already satisfied: tqdm in c:\\users\\nitin\\appdata\\local\\programs\\python\\python311\\lib\\site-packages (from google.generativeai) (4.67.0)\n",
      "Requirement already satisfied: typing-extensions in c:\\users\\nitin\\appdata\\local\\programs\\python\\python311\\lib\\site-packages (from google.generativeai) (4.12.2)\n",
      "Requirement already satisfied: proto-plus<2.0.0dev,>=1.22.3 in c:\\users\\nitin\\appdata\\local\\programs\\python\\python311\\lib\\site-packages (from google-ai-generativelanguage==0.6.15->google.generativeai) (1.26.0)\n",
      "Requirement already satisfied: googleapis-common-protos<2.0.dev0,>=1.56.2 in c:\\users\\nitin\\appdata\\local\\programs\\python\\python311\\lib\\site-packages (from google-api-core->google.generativeai) (1.67.0)\n",
      "Requirement already satisfied: requests<3.0.0.dev0,>=2.18.0 in c:\\users\\nitin\\appdata\\local\\programs\\python\\python311\\lib\\site-packages (from google-api-core->google.generativeai) (2.32.3)\n",
      "Requirement already satisfied: cachetools<6.0,>=2.0.0 in c:\\users\\nitin\\appdata\\local\\programs\\python\\python311\\lib\\site-packages (from google-auth>=2.15.0->google.generativeai) (5.3.3)\n",
      "Requirement already satisfied: pyasn1-modules>=0.2.1 in c:\\users\\nitin\\appdata\\local\\programs\\python\\python311\\lib\\site-packages (from google-auth>=2.15.0->google.generativeai) (0.4.1)\n",
      "Requirement already satisfied: rsa<5,>=3.1.4 in c:\\users\\nitin\\appdata\\local\\programs\\python\\python311\\lib\\site-packages (from google-auth>=2.15.0->google.generativeai) (4.9)\n",
      "Requirement already satisfied: httplib2<1.dev0,>=0.19.0 in c:\\users\\nitin\\appdata\\local\\programs\\python\\python311\\lib\\site-packages (from google-api-python-client->google.generativeai) (0.22.0)\n",
      "Requirement already satisfied: google-auth-httplib2<1.0.0,>=0.2.0 in c:\\users\\nitin\\appdata\\local\\programs\\python\\python311\\lib\\site-packages (from google-api-python-client->google.generativeai) (0.2.0)\n",
      "Requirement already satisfied: uritemplate<5,>=3.0.1 in c:\\users\\nitin\\appdata\\local\\programs\\python\\python311\\lib\\site-packages (from google-api-python-client->google.generativeai) (4.1.1)\n",
      "Requirement already satisfied: annotated-types>=0.6.0 in c:\\users\\nitin\\appdata\\local\\programs\\python\\python311\\lib\\site-packages (from pydantic->google.generativeai) (0.7.0)\n",
      "Requirement already satisfied: pydantic-core==2.23.4 in c:\\users\\nitin\\appdata\\local\\programs\\python\\python311\\lib\\site-packages (from pydantic->google.generativeai) (2.23.4)\n",
      "Requirement already satisfied: colorama in c:\\users\\nitin\\appdata\\local\\programs\\python\\python311\\lib\\site-packages (from tqdm->google.generativeai) (0.4.6)\n",
      "Requirement already satisfied: grpcio<2.0dev,>=1.33.2 in c:\\users\\nitin\\appdata\\local\\programs\\python\\python311\\lib\\site-packages (from google-api-core[grpc]!=2.0.*,!=2.1.*,!=2.10.*,!=2.2.*,!=2.3.*,!=2.4.*,!=2.5.*,!=2.6.*,!=2.7.*,!=2.8.*,!=2.9.*,<3.0.0dev,>=1.34.1->google-ai-generativelanguage==0.6.15->google.generativeai) (1.70.0)\n",
      "Requirement already satisfied: grpcio-status<2.0.dev0,>=1.33.2 in c:\\users\\nitin\\appdata\\local\\programs\\python\\python311\\lib\\site-packages (from google-api-core[grpc]!=2.0.*,!=2.1.*,!=2.10.*,!=2.2.*,!=2.3.*,!=2.4.*,!=2.5.*,!=2.6.*,!=2.7.*,!=2.8.*,!=2.9.*,<3.0.0dev,>=1.34.1->google-ai-generativelanguage==0.6.15->google.generativeai) (1.70.0)\n",
      "Requirement already satisfied: pyparsing!=3.0.0,!=3.0.1,!=3.0.2,!=3.0.3,<4,>=2.4.2 in c:\\users\\nitin\\appdata\\local\\programs\\python\\python311\\lib\\site-packages (from httplib2<1.dev0,>=0.19.0->google-api-python-client->google.generativeai) (3.1.2)\n",
      "Requirement already satisfied: pyasn1<0.7.0,>=0.4.6 in c:\\users\\nitin\\appdata\\local\\programs\\python\\python311\\lib\\site-packages (from pyasn1-modules>=0.2.1->google-auth>=2.15.0->google.generativeai) (0.6.1)\n",
      "Requirement already satisfied: charset-normalizer<4,>=2 in c:\\users\\nitin\\appdata\\local\\programs\\python\\python311\\lib\\site-packages (from requests<3.0.0.dev0,>=2.18.0->google-api-core->google.generativeai) (3.3.2)\n",
      "Requirement already satisfied: idna<4,>=2.5 in c:\\users\\nitin\\appdata\\local\\programs\\python\\python311\\lib\\site-packages (from requests<3.0.0.dev0,>=2.18.0->google-api-core->google.generativeai) (3.7)\n",
      "Requirement already satisfied: urllib3<3,>=1.21.1 in c:\\users\\nitin\\appdata\\local\\programs\\python\\python311\\lib\\site-packages (from requests<3.0.0.dev0,>=2.18.0->google-api-core->google.generativeai) (2.2.2)\n",
      "Requirement already satisfied: certifi>=2017.4.17 in c:\\users\\nitin\\appdata\\local\\programs\\python\\python311\\lib\\site-packages (from requests<3.0.0.dev0,>=2.18.0->google-api-core->google.generativeai) (2024.7.4)\n",
      "Note: you may need to restart the kernel to use updated packages.\n"
     ]
    },
    {
     "name": "stderr",
     "output_type": "stream",
     "text": [
      "\n",
      "[notice] A new release of pip is available: 24.3.1 -> 25.0.1\n",
      "[notice] To update, run: python.exe -m pip install --upgrade pip\n"
     ]
    }
   ],
   "source": [
    "%pip install google.generativeai python-dotenv"
   ]
  },
  {
   "cell_type": "code",
   "execution_count": 7,
   "metadata": {},
   "outputs": [
    {
     "name": "stderr",
     "output_type": "stream",
     "text": [
      "c:\\Users\\Nitin\\AppData\\Local\\Programs\\Python\\Python311\\Lib\\site-packages\\tqdm\\auto.py:21: TqdmWarning: IProgress not found. Please update jupyter and ipywidgets. See https://ipywidgets.readthedocs.io/en/stable/user_install.html\n",
      "  from .autonotebook import tqdm as notebook_tqdm\n"
     ]
    }
   ],
   "source": [
    "import google.generativeai as genai\n",
    "import os\n",
    "from dotenv import load_dotenv\n",
    "\n",
    "load_dotenv()\n",
    "genai.configure(api_key=os.getenv(\"GOOGLE_API_KEY\"))\n",
    "model = genai.GenerativeModel(\"gemini-1.5-flash\")"
   ]
  },
  {
   "cell_type": "code",
   "execution_count": 8,
   "metadata": {},
   "outputs": [],
   "source": [
    "response = model.generate_content(\"What is the capital of India?\")\n"
   ]
  },
  {
   "cell_type": "code",
   "execution_count": 9,
   "metadata": {},
   "outputs": [
    {
     "name": "stdout",
     "output_type": "stream",
     "text": [
      "response:\n",
      "GenerateContentResponse(\n",
      "    done=True,\n",
      "    iterator=None,\n",
      "    result=protos.GenerateContentResponse({\n",
      "      \"candidates\": [\n",
      "        {\n",
      "          \"content\": {\n",
      "            \"parts\": [\n",
      "              {\n",
      "                \"text\": \"The capital of India is **New Delhi**.\\n\"\n",
      "              }\n",
      "            ],\n",
      "            \"role\": \"model\"\n",
      "          },\n",
      "          \"finish_reason\": \"STOP\",\n",
      "          \"avg_logprobs\": -0.002600635588169098\n",
      "        }\n",
      "      ],\n",
      "      \"usage_metadata\": {\n",
      "        \"prompt_token_count\": 7,\n",
      "        \"candidates_token_count\": 10,\n",
      "        \"total_token_count\": 17\n",
      "      },\n",
      "      \"model_version\": \"gemini-1.5-flash\"\n",
      "    }),\n",
      ")\n"
     ]
    }
   ],
   "source": [
    "print(response)"
   ]
  },
  {
   "cell_type": "code",
   "execution_count": 10,
   "metadata": {},
   "outputs": [
    {
     "name": "stdout",
     "output_type": "stream",
     "text": [
      "The capital of India is **New Delhi**.\n",
      "\n"
     ]
    }
   ],
   "source": [
    "print(response.text)"
   ]
  },
  {
   "cell_type": "markdown",
   "metadata": {},
   "source": [
    "## Resume Analysis"
   ]
  },
  {
   "cell_type": "code",
   "execution_count": 12,
   "metadata": {},
   "outputs": [],
   "source": [
    "def analyze_resume(resume_text, job_description=None):\n",
    "    if not resume_text:\n",
    "        return {\"error\": \"Resume text is required for analysis.\"}\n",
    "    \n",
    "    model = genai.GenerativeModel(\"gemini-1.5-flash\")\n",
    "    \n",
    "    base_prompt = f\"\"\"\n",
    "    You are an experienced HR with Technical Experience in the field of any one job role from Data Science, Data Analyst, DevOPS, Machine Learning Engineer, Prompt Engineer, AI Engineer, Full Stack Web Development, Big Data Engineering, Marketing Analyst, Human Resource Manager, Software Developer your task is to review the provided resume.\n",
    "    Please share your professional evaluation on whether the candidate's profile aligns with the role.ALso mention Skills he already have and siggest some skills to imorve his resume , alos suggest some course he might take to improve the skills.Highlight the strengths and weaknesses.\n",
    "\n",
    "    Resume:\n",
    "    {resume_text}\n",
    "    \"\"\"\n",
    "\n",
    "    if job_description:\n",
    "        base_prompt += f\"\"\"\n",
    "        Additionally, compare this resume to the following job description:\n",
    "        \n",
    "        Job Description:\n",
    "        {job_description}\n",
    "        \n",
    "        Highlight the strengths and weaknesses of the applicant in relation to the specified job requirements.\n",
    "        \"\"\"\n",
    "\n",
    "    response = model.generate_content(base_prompt)\n",
    "\n",
    "    analysis = response.text.strip()\n",
    "    return analysis"
   ]
  },
  {
   "cell_type": "code",
   "execution_count": 13,
   "metadata": {},
   "outputs": [
    {
     "name": "stdout",
     "output_type": "stream",
     "text": [
      "## Resume Evaluation for Nitin Singh Pokhariya\n",
      "\n",
      "**Role Assumed for Evaluation:**  Full Stack Web Developer (Given the candidate's stated skills and projects)\n",
      "\n",
      "**Overall Assessment:**\n",
      "\n",
      "Nitin's resume shows promise, particularly for a recent graduate or entry-level candidate. His projects demonstrate some practical application of his skills, and his involvement in a hackathon showcases leadership potential. However,  the resume lacks depth and needs significant improvement in showcasing his abilities effectively.\n",
      "\n",
      "\n",
      "**Strengths:**\n",
      "\n",
      "* **Project Experience:**  He has two projects involving Python, Tkinter, and Hugging Face APIs, demonstrating familiarity with several relevant technologies.\n",
      "* **Hackathon Participation:** Leading a team to the final round of a hackathon is a significant achievement and highlights leadership and teamwork skills.\n",
      "* **Certifications:** A good number of relevant certifications are listed, indicating proactive learning.\n",
      "* **Technical Skills:**  He lists a decent range of technical skills although many lack quantified demonstrable achievements.\n",
      "\n",
      "\n",
      "**Weaknesses:**\n",
      "\n",
      "* **Lack of Project Detail:** The project descriptions are too brief.  Quantifiable results, challenges overcome, and a more detailed explanation of the technical choices made are missing.  For example, what was the specific use case of the chatbot? What were the key features of the text-to-image project? What were the challenges faced and how did he overcome them?\n",
      "* **Vague Skill Descriptions:**  The resume lists skills like \"Web Development,\" \"Full Stack,\" and \"DSA\" without demonstrating proficiency.  Specific frameworks and libraries used need to be mentioned (e.g., React, Node.js, Angular, specific DSA algorithms used).\n",
      "* **Inconsistent Formatting:** The resume's formatting is inconsistent.  The use of bullet points and spacing needs improvement for better readability.\n",
      "* **Lack of Quantifiable Achievements:**  The resume lacks specific metrics to measure his accomplishments in projects or hackathons.  (e.g., \"Improved chatbot response time by 15%,\" \"Reduced error rate by 10%,\" \"Increased user engagement by 20%\").\n",
      "* **Limited Depth in Technical Skills:** The resume touches upon many skills but lacks in-depth expertise in any specific area vital for a full-stack developer.  For instance, while he mentions databases, he doesn't specify experience with SQL or NoSQL databases.\n",
      "* **Education Section:** The education section lacks detail about CGPA or any academic awards, which can be a strength for a recent graduate\n",
      "\n",
      "\n",
      "**Skills Nitin Already Has:**\n",
      "\n",
      "* Python programming (with libraries like Tkinter)\n",
      "* API Integration (Hugging Face)\n",
      "* Basic UI development (Tkinter)\n",
      "* Version control (Git, GitHub)\n",
      "* Linux fundamentals\n",
      "* C/C++\n",
      "* HTML, CSS\n",
      "* MySQL\n",
      "\n",
      "\n",
      "**Skills to Improve:**\n",
      "\n",
      "* **JavaScript Frameworks:**  (React, Angular, Vue.js) - Essential for front-end development.\n",
      "* **Backend Frameworks:** (Node.js, Django, Flask, Spring Boot) - Essential for backend development.\n",
      "* **Database Proficiency:** Advanced SQL, NoSQL databases (MongoDB, Cassandra).\n",
      "* **Testing and Debugging:**  Unit testing, integration testing, debugging techniques.\n",
      "* **Cloud Technologies:** (AWS, Azure, GCP) -  Increasingly important for full-stack roles.\n",
      "* **Data Structures and Algorithms:** Demonstrate proficiency beyond just listing DSA.\n",
      "* **Software Engineering Principles:**  Design patterns, SOLID principles, Agile methodologies.\n",
      "* **Communication and Presentation Skills:** Improve the clarity and conciseness of explanations of projects and experiences.\n",
      "\n",
      "\n",
      "**Suggested Courses:**\n",
      "\n",
      "* **Frontend Development:**  A course on React, Angular, or Vue.js.  Many options are available on platforms like Udemy, Coursera, and freeCodeCamp.\n",
      "* **Backend Development:**  A course on Node.js, Django, Flask, or Spring Boot depending on chosen stack.\n",
      "* **Database Management:** A course focusing on advanced SQL and NoSQL databases.\n",
      "* **Cloud Computing:**  Courses on AWS, Azure, or GCP, focusing on relevant services like cloud functions, databases, and storage.\n",
      "* **Software Engineering Principles:** Courses covering design patterns, SOLID principles, and Agile methodologies.\n",
      "\n",
      "\n",
      "\n",
      "**Recommendations:**\n",
      "\n",
      "1. **Rework Project Descriptions:**  Expand on each project, quantifying achievements and highlighting challenges overcome. Use the STAR method (Situation, Task, Action, Result) to structure the descriptions.\n",
      "2. **Add Quantifiable Results:**  Include metrics to demonstrate the impact of his work in each project (e.g., time saved, cost reduction, increased efficiency).\n",
      "3. **Improve Skill Descriptions:**  Instead of simply listing skills, provide specific examples of how he has used them in his projects.\n",
      "4. **Add a Portfolio:** A portfolio showcasing his projects would significantly strengthen his application.\n",
      "5. **Enhance Resume Formatting:**  Use a professional resume template and maintain consistent formatting throughout.\n",
      "6. **Include CGPA or Academic Honors:** If he has a good CGPA or received any academic awards, include them in the education section.\n",
      "7. **Tailor the Resume:**  Customize the resume to match the specific requirements of each job application.\n",
      "\n",
      "\n",
      "\n",
      "By addressing these weaknesses and adding more detailed information, Nitin can significantly enhance his resume and make it more competitive in the job market.\n"
     ]
    }
   ],
   "source": [
    "print(analyze_resume(resume_text))\n"
   ]
  }
 ],
 "metadata": {
  "kernelspec": {
   "display_name": "Python 3",
   "language": "python",
   "name": "python3"
  },
  "language_info": {
   "codemirror_mode": {
    "name": "ipython",
    "version": 3
   },
   "file_extension": ".py",
   "mimetype": "text/x-python",
   "name": "python",
   "nbconvert_exporter": "python",
   "pygments_lexer": "ipython3",
   "version": "3.11.4"
  }
 },
 "nbformat": 4,
 "nbformat_minor": 2
}
